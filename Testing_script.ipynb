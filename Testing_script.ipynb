{
 "cells": [
  {
   "cell_type": "code",
   "execution_count": 13,
   "id": "1ae92131-0bb0-4497-8613-7f3adef106b2",
   "metadata": {},
   "outputs": [
    {
     "name": "stdout",
     "output_type": "stream",
     "text": [
      " * Serving Flask app '__main__'\n",
      " * Debug mode: on\n"
     ]
    },
    {
     "name": "stderr",
     "output_type": "stream",
     "text": [
      "WARNING: This is a development server. Do not use it in a production deployment. Use a production WSGI server instead.\n",
      " * Running on http://127.0.0.1:5000\n",
      "Press CTRL+C to quit\n",
      " * Restarting with watchdog (windowsapi)\n"
     ]
    },
    {
     "ename": "SystemExit",
     "evalue": "1",
     "output_type": "error",
     "traceback": [
      "An exception has occurred, use %tb to see the full traceback.\n",
      "\u001b[1;31mSystemExit\u001b[0m\u001b[1;31m:\u001b[0m 1\n"
     ]
    },
    {
     "name": "stderr",
     "output_type": "stream",
     "text": [
      "C:\\Users\\manan\\anaconda3\\Lib\\site-packages\\IPython\\core\\interactiveshell.py:3561: UserWarning: To exit: use 'exit', 'quit', or Ctrl-D.\n",
      "  warn(\"To exit: use 'exit', 'quit', or Ctrl-D.\", stacklevel=1)\n"
     ]
    }
   ],
   "source": [
    "from flask import Flask, request, jsonify\n",
    "\n",
    "app = Flask(__name__)\n",
    "\n",
    "@app.route('/api/ask', methods=['POST'])\n",
    "def ask():\n",
    "    user_query = request.json.get('query', '').strip()\n",
    "    \n",
    "    # Define mock responses based on user queries\n",
    "    responses = {\n",
    "        \"What are the library hours?\": \"The library is open from 8 AM to 10 PM.\",\n",
    "        \"What is the course schedule for next semester?\": \"The course schedule will be available on the website next month.\",\n",
    "        \"How do I reset my password?\": \"To reset your password, go to settings.\",\n",
    "        \"What is the latest news on course registration?\": \"Course registration opens next week.\",\n",
    "        \"What are the campus dining hours?\": \"Campus dining is open from 7 AM to 9 PM.\",\n",
    "        \"How can I contact tech support?\": \"You can contact tech support at support@example.com.\",\n",
    "        \"Where can I find my grades?\": \"You can find your grades in the student portal.\",\n",
    "        \"What is the academic calendar for this year?\": \"The academic calendar is available on the university website.\",\n",
    "        \"How do I enroll in classes?\": \"You can enroll in classes through the student portal.\",\n",
    "        \"What is the refund policy?\": \"The refund policy can be found on the university's website.\",\n",
    "        \"What are the library services?\": \"Library services include borrowing books, study rooms, and computer access.\",\n",
    "        \"What scholarships are available?\": \"Various scholarships are available; check the financial aid office.\",\n",
    "        \"How can I change my major?\": \"You can change your major by contacting the academic advising office.\",\n",
    "        \"What is the procedure for graduation?\": \"The graduation procedure is detailed on the university website.\",\n",
    "        \"What is the campus address?\": \"The campus address is 123 University Ave, College Town.\",\n",
    "    }\n",
    "\n",
    "    if user_query in responses:\n",
    "        response = responses[user_query]\n",
    "    elif user_query == \"\":\n",
    "        response = \"I'm sorry, I didn't understand that.\"\n",
    "    elif user_query == \"@#$%^&*()\":\n",
    "        response = \"I'm sorry, I didn't understand that.\"\n",
    "    else:\n",
    "        response = \"I'm not sure about that.\"\n",
    "\n",
    "    return jsonify({'response': response})\n",
    "\n",
    "if __name__ == '__main__':\n",
    "    app.run(debug=True, port=5000)  # Run on port 5000\n"
   ]
  },
  {
   "cell_type": "code",
   "execution_count": 14,
   "id": "2df568b7-1999-4adf-aeed-7e38f0328af5",
   "metadata": {},
   "outputs": [
    {
     "name": "stderr",
     "output_type": "stream",
     "text": [
      "test_handle_invalid_input (__main__.TestStudentVoiceChatbot.test_handle_invalid_input) ... ok\n",
      "test_response_accuracy (__main__.TestStudentVoiceChatbot.test_response_accuracy) ... ok\n",
      "\n",
      "----------------------------------------------------------------------\n",
      "Ran 2 tests in 34.762s\n",
      "\n",
      "OK\n"
     ]
    }
   ],
   "source": [
    "import unittest\n",
    "import requests\n",
    "\n",
    "class TestStudentVoiceChatbot(unittest.TestCase):\n",
    "    BASE_URL = \"http://localhost:5000/api\"  # URL of the mock chatbot server\n",
    "\n",
    "    def test_response_accuracy(self):\n",
    "        inquiries = [\n",
    "            (\"What are the library hours?\", \"The library is open from 8 AM to 10 PM.\"),\n",
    "            (\"What is the course schedule for next semester?\", \"The course schedule will be available on the website next month.\"),\n",
    "            (\"How do I reset my password?\", \"To reset your password, go to settings.\"),\n",
    "            (\"What is the latest news on course registration?\", \"Course registration opens next week.\"),\n",
    "            (\"What are the campus dining hours?\", \"Campus dining is open from 7 AM to 9 PM.\"),\n",
    "            (\"How can I contact tech support?\", \"You can contact tech support at support@example.com.\"),\n",
    "            (\"Where can I find my grades?\", \"You can find your grades in the student portal.\"),\n",
    "            (\"What is the academic calendar for this year?\", \"The academic calendar is available on the university website.\"),\n",
    "            (\"How do I enroll in classes?\", \"You can enroll in classes through the student portal.\"),\n",
    "            (\"What is the refund policy?\", \"The refund policy can be found on the university's website.\"),\n",
    "            (\"What are the library services?\", \"Library services include borrowing books, study rooms, and computer access.\"),\n",
    "            (\"What scholarships are available?\", \"Various scholarships are available; check the financial aid office.\"),\n",
    "            (\"How can I change my major?\", \"You can change your major by contacting the academic advising office.\"),\n",
    "            (\"What is the procedure for graduation?\", \"The graduation procedure is detailed on the university website.\"),\n",
    "            (\"What is the campus address?\", \"The campus address is 123 University Ave, College Town.\"),\n",
    "        ]\n",
    "        \n",
    "        for inquiry, expected_response in inquiries:\n",
    "            with self.subTest(inquiry=inquiry):\n",
    "                response = requests.post(f\"{self.BASE_URL}/ask\", json={\"query\": inquiry})\n",
    "                self.assertEqual(response.json()['response'], expected_response)\n",
    "\n",
    "    def test_handle_invalid_input(self):\n",
    "        inquiries = [\"\", \"@#$%^&*()\"]\n",
    "        expected_response = \"I'm sorry, I didn't understand that.\"\n",
    "        \n",
    "        for inquiry in inquiries:\n",
    "            with self.subTest(inquiry=inquiry):\n",
    "                response = requests.post(f\"{self.BASE_URL}/ask\", json={\"query\": inquiry})\n",
    "                self.assertEqual(response.json()['response'], expected_response)\n",
    "\n",
    "if __name__ == '__main__':\n",
    "    unittest.main(argv=[''], verbosity=2, exit=False)\n"
   ]
  },
  {
   "cell_type": "code",
   "execution_count": null,
   "id": "a185b06b-fe69-45dc-a780-b5f14f0cc725",
   "metadata": {},
   "outputs": [],
   "source": []
  }
 ],
 "metadata": {
  "kernelspec": {
   "display_name": "Python 3 (ipykernel)",
   "language": "python",
   "name": "python3"
  },
  "language_info": {
   "codemirror_mode": {
    "name": "ipython",
    "version": 3
   },
   "file_extension": ".py",
   "mimetype": "text/x-python",
   "name": "python",
   "nbconvert_exporter": "python",
   "pygments_lexer": "ipython3",
   "version": "3.11.7"
  }
 },
 "nbformat": 4,
 "nbformat_minor": 5
}
